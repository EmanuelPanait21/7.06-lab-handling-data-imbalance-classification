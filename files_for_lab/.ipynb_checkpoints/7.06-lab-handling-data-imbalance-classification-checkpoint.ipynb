{
 "cells": [
  {
   "cell_type": "code",
   "execution_count": 11,
   "id": "27dff848",
   "metadata": {},
   "outputs": [],
   "source": [
    "import pandas as pd\n",
    "import numpy as np\n",
    "import matplotlib.pyplot as plt\n",
    "\n",
    "from sklearn.model_selection import train_test_split\n",
    "from imblearn.pipeline import Pipeline\n",
    "from sklearn.preprocessing import StandardScaler\n",
    "from sklearn.linear_model import LogisticRegression\n",
    "from sklearn.metrics import confusion_matrix, classification_report, ConfusionMatrixDisplay\n",
    "from imblearn.over_sampling import SMOTE, RandomOverSampler\n",
    "from imblearn.under_sampling import RandomUnderSampler"
   ]
  },
  {
   "cell_type": "markdown",
   "id": "aee8fa52",
   "metadata": {},
   "source": [
    "Scenario\n",
    "You are working as an analyst with this internet service provider. You are provided with this historical data about your company's customers and their churn trends. Your task is to build a machine learning model that will help the company identify customers that are more likely to default/churn and thus prevent losses from such customers."
   ]
  },
  {
   "cell_type": "code",
   "execution_count": 12,
   "id": "fcca0e5c",
   "metadata": {},
   "outputs": [],
   "source": [
    "df = pd.read_csv('Customer-Churn.csv')"
   ]
  },
  {
   "cell_type": "code",
   "execution_count": 13,
   "id": "efcb52a6",
   "metadata": {},
   "outputs": [
    {
     "name": "stdout",
     "output_type": "stream",
     "text": [
      "(7043, 16)\n"
     ]
    },
    {
     "data": {
      "text/html": [
       "<div>\n",
       "<style scoped>\n",
       "    .dataframe tbody tr th:only-of-type {\n",
       "        vertical-align: middle;\n",
       "    }\n",
       "\n",
       "    .dataframe tbody tr th {\n",
       "        vertical-align: top;\n",
       "    }\n",
       "\n",
       "    .dataframe thead th {\n",
       "        text-align: right;\n",
       "    }\n",
       "</style>\n",
       "<table border=\"1\" class=\"dataframe\">\n",
       "  <thead>\n",
       "    <tr style=\"text-align: right;\">\n",
       "      <th></th>\n",
       "      <th>gender</th>\n",
       "      <th>SeniorCitizen</th>\n",
       "      <th>Partner</th>\n",
       "      <th>Dependents</th>\n",
       "      <th>tenure</th>\n",
       "      <th>PhoneService</th>\n",
       "      <th>OnlineSecurity</th>\n",
       "      <th>OnlineBackup</th>\n",
       "      <th>DeviceProtection</th>\n",
       "      <th>TechSupport</th>\n",
       "      <th>StreamingTV</th>\n",
       "      <th>StreamingMovies</th>\n",
       "      <th>Contract</th>\n",
       "      <th>MonthlyCharges</th>\n",
       "      <th>TotalCharges</th>\n",
       "      <th>Churn</th>\n",
       "    </tr>\n",
       "  </thead>\n",
       "  <tbody>\n",
       "    <tr>\n",
       "      <th>0</th>\n",
       "      <td>Female</td>\n",
       "      <td>0</td>\n",
       "      <td>Yes</td>\n",
       "      <td>No</td>\n",
       "      <td>1</td>\n",
       "      <td>No</td>\n",
       "      <td>No</td>\n",
       "      <td>Yes</td>\n",
       "      <td>No</td>\n",
       "      <td>No</td>\n",
       "      <td>No</td>\n",
       "      <td>No</td>\n",
       "      <td>Month-to-month</td>\n",
       "      <td>29.85</td>\n",
       "      <td>29.85</td>\n",
       "      <td>No</td>\n",
       "    </tr>\n",
       "    <tr>\n",
       "      <th>1</th>\n",
       "      <td>Male</td>\n",
       "      <td>0</td>\n",
       "      <td>No</td>\n",
       "      <td>No</td>\n",
       "      <td>34</td>\n",
       "      <td>Yes</td>\n",
       "      <td>Yes</td>\n",
       "      <td>No</td>\n",
       "      <td>Yes</td>\n",
       "      <td>No</td>\n",
       "      <td>No</td>\n",
       "      <td>No</td>\n",
       "      <td>One year</td>\n",
       "      <td>56.95</td>\n",
       "      <td>1889.5</td>\n",
       "      <td>No</td>\n",
       "    </tr>\n",
       "    <tr>\n",
       "      <th>2</th>\n",
       "      <td>Male</td>\n",
       "      <td>0</td>\n",
       "      <td>No</td>\n",
       "      <td>No</td>\n",
       "      <td>2</td>\n",
       "      <td>Yes</td>\n",
       "      <td>Yes</td>\n",
       "      <td>Yes</td>\n",
       "      <td>No</td>\n",
       "      <td>No</td>\n",
       "      <td>No</td>\n",
       "      <td>No</td>\n",
       "      <td>Month-to-month</td>\n",
       "      <td>53.85</td>\n",
       "      <td>108.15</td>\n",
       "      <td>Yes</td>\n",
       "    </tr>\n",
       "  </tbody>\n",
       "</table>\n",
       "</div>"
      ],
      "text/plain": [
       "   gender  SeniorCitizen Partner Dependents  tenure PhoneService  \\\n",
       "0  Female              0     Yes         No       1           No   \n",
       "1    Male              0      No         No      34          Yes   \n",
       "2    Male              0      No         No       2          Yes   \n",
       "\n",
       "  OnlineSecurity OnlineBackup DeviceProtection TechSupport StreamingTV  \\\n",
       "0             No          Yes               No          No          No   \n",
       "1            Yes           No              Yes          No          No   \n",
       "2            Yes          Yes               No          No          No   \n",
       "\n",
       "  StreamingMovies        Contract  MonthlyCharges TotalCharges Churn  \n",
       "0              No  Month-to-month           29.85        29.85    No  \n",
       "1              No        One year           56.95       1889.5    No  \n",
       "2              No  Month-to-month           53.85       108.15   Yes  "
      ]
     },
     "execution_count": 13,
     "metadata": {},
     "output_type": "execute_result"
    }
   ],
   "source": [
    "print(df.shape)\n",
    "df.head(3)"
   ]
  },
  {
   "cell_type": "code",
   "execution_count": 14,
   "id": "2d448121",
   "metadata": {},
   "outputs": [
    {
     "name": "stdout",
     "output_type": "stream",
     "text": [
      "<class 'pandas.core.frame.DataFrame'>\n",
      "RangeIndex: 7043 entries, 0 to 7042\n",
      "Data columns (total 16 columns):\n",
      " #   Column            Non-Null Count  Dtype  \n",
      "---  ------            --------------  -----  \n",
      " 0   gender            7043 non-null   object \n",
      " 1   SeniorCitizen     7043 non-null   int64  \n",
      " 2   Partner           7043 non-null   object \n",
      " 3   Dependents        7043 non-null   object \n",
      " 4   tenure            7043 non-null   int64  \n",
      " 5   PhoneService      7043 non-null   object \n",
      " 6   OnlineSecurity    7043 non-null   object \n",
      " 7   OnlineBackup      7043 non-null   object \n",
      " 8   DeviceProtection  7043 non-null   object \n",
      " 9   TechSupport       7043 non-null   object \n",
      " 10  StreamingTV       7043 non-null   object \n",
      " 11  StreamingMovies   7043 non-null   object \n",
      " 12  Contract          7043 non-null   object \n",
      " 13  MonthlyCharges    7043 non-null   float64\n",
      " 14  TotalCharges      7043 non-null   object \n",
      " 15  Churn             7043 non-null   object \n",
      "dtypes: float64(1), int64(2), object(13)\n",
      "memory usage: 880.5+ KB\n"
     ]
    }
   ],
   "source": [
    "df.info()"
   ]
  },
  {
   "cell_type": "markdown",
   "id": "c0eda1a5",
   "metadata": {},
   "source": [
    "Basic Data Cleaning"
   ]
  },
  {
   "cell_type": "code",
   "execution_count": 15,
   "id": "1aa7c4f8",
   "metadata": {},
   "outputs": [
    {
     "data": {
      "text/html": [
       "<div>\n",
       "<style scoped>\n",
       "    .dataframe tbody tr th:only-of-type {\n",
       "        vertical-align: middle;\n",
       "    }\n",
       "\n",
       "    .dataframe tbody tr th {\n",
       "        vertical-align: top;\n",
       "    }\n",
       "\n",
       "    .dataframe thead th {\n",
       "        text-align: right;\n",
       "    }\n",
       "</style>\n",
       "<table border=\"1\" class=\"dataframe\">\n",
       "  <thead>\n",
       "    <tr style=\"text-align: right;\">\n",
       "      <th></th>\n",
       "      <th>gender</th>\n",
       "      <th>SeniorCitizen</th>\n",
       "      <th>Partner</th>\n",
       "      <th>Dependents</th>\n",
       "      <th>tenure</th>\n",
       "      <th>PhoneService</th>\n",
       "      <th>OnlineSecurity</th>\n",
       "      <th>OnlineBackup</th>\n",
       "      <th>DeviceProtection</th>\n",
       "      <th>TechSupport</th>\n",
       "      <th>StreamingTV</th>\n",
       "      <th>StreamingMovies</th>\n",
       "      <th>Contract</th>\n",
       "      <th>MonthlyCharges</th>\n",
       "      <th>TotalCharges</th>\n",
       "      <th>Churn</th>\n",
       "    </tr>\n",
       "  </thead>\n",
       "  <tbody>\n",
       "    <tr>\n",
       "      <th>0</th>\n",
       "      <td>Female</td>\n",
       "      <td>0</td>\n",
       "      <td>Yes</td>\n",
       "      <td>No</td>\n",
       "      <td>1</td>\n",
       "      <td>No</td>\n",
       "      <td>No</td>\n",
       "      <td>Yes</td>\n",
       "      <td>No</td>\n",
       "      <td>No</td>\n",
       "      <td>No</td>\n",
       "      <td>No</td>\n",
       "      <td>Month-to-month</td>\n",
       "      <td>29.85</td>\n",
       "      <td>29.85</td>\n",
       "      <td>No</td>\n",
       "    </tr>\n",
       "  </tbody>\n",
       "</table>\n",
       "</div>"
      ],
      "text/plain": [
       "   gender  SeniorCitizen Partner Dependents  tenure PhoneService  \\\n",
       "0  Female              0     Yes         No       1           No   \n",
       "\n",
       "  OnlineSecurity OnlineBackup DeviceProtection TechSupport StreamingTV  \\\n",
       "0             No          Yes               No          No          No   \n",
       "\n",
       "  StreamingMovies        Contract  MonthlyCharges TotalCharges Churn  \n",
       "0              No  Month-to-month           29.85        29.85    No  "
      ]
     },
     "execution_count": 15,
     "metadata": {},
     "output_type": "execute_result"
    }
   ],
   "source": [
    "df.head(1)"
   ]
  },
  {
   "cell_type": "code",
   "execution_count": 16,
   "id": "a468fe7f",
   "metadata": {},
   "outputs": [
    {
     "name": "stdout",
     "output_type": "stream",
     "text": [
      "gender ['Female' 'Male']\n",
      "Partner ['Yes' 'No']\n",
      "Dependents ['No' 'Yes']\n",
      "PhoneService ['No' 'Yes']\n",
      "OnlineSecurity ['No' 'Yes' 'No internet service']\n",
      "OnlineBackup ['Yes' 'No' 'No internet service']\n",
      "DeviceProtection ['No' 'Yes' 'No internet service']\n",
      "TechSupport ['No' 'Yes' 'No internet service']\n",
      "StreamingTV ['No' 'Yes' 'No internet service']\n",
      "StreamingMovies ['No' 'Yes' 'No internet service']\n",
      "Contract ['Month-to-month' 'One year' 'Two year']\n",
      "TotalCharges ['29.85' '1889.5' '108.15' ... '346.45' '306.6' '6844.5']\n",
      "Churn ['No' 'Yes']\n"
     ]
    }
   ],
   "source": [
    "# check unique values for the features\n",
    "[print(col, df[col].unique())for col in  df.select_dtypes('object')];"
   ]
  },
  {
   "cell_type": "code",
   "execution_count": 17,
   "id": "a36a9211",
   "metadata": {},
   "outputs": [],
   "source": [
    "# clean up some features\n",
    "\n",
    "# convert Churn to 1 (Yes) and 0 (No)\n",
    "df.loc[df['Churn'] == \"Yes\", 'Churn'] = 1.0\n",
    "df.loc[df['Churn'] == \"No\", 'Churn'] = 0.0\n",
    "df['Churn'] = pd.to_numeric(df['Churn'])\n",
    "\n",
    "# convert total charges to float value\n",
    "df['TotalCharges'] = pd.to_numeric(df['TotalCharges'], errors='coerce')"
   ]
  },
  {
   "cell_type": "code",
   "execution_count": 18,
   "id": "f5668a0f",
   "metadata": {},
   "outputs": [
    {
     "data": {
      "text/plain": [
       "(dtype('float64'), dtype('float64'))"
      ]
     },
     "execution_count": 18,
     "metadata": {},
     "output_type": "execute_result"
    }
   ],
   "source": [
    "df['Churn'].dtype, df['TotalCharges'].dtype"
   ]
  },
  {
   "cell_type": "markdown",
   "id": "3508721b",
   "metadata": {},
   "source": [
    "Check Null Values and handle them"
   ]
  },
  {
   "cell_type": "code",
   "execution_count": 19,
   "id": "eec28c70",
   "metadata": {},
   "outputs": [
    {
     "data": {
      "text/plain": [
       "gender               0\n",
       "SeniorCitizen        0\n",
       "Partner              0\n",
       "Dependents           0\n",
       "tenure               0\n",
       "PhoneService         0\n",
       "OnlineSecurity       0\n",
       "OnlineBackup         0\n",
       "DeviceProtection     0\n",
       "TechSupport          0\n",
       "StreamingTV          0\n",
       "StreamingMovies      0\n",
       "Contract             0\n",
       "MonthlyCharges       0\n",
       "TotalCharges        11\n",
       "Churn                0\n",
       "dtype: int64"
      ]
     },
     "execution_count": 19,
     "metadata": {},
     "output_type": "execute_result"
    }
   ],
   "source": [
    "# check for null values\n",
    "df.isna().sum()"
   ]
  },
  {
   "cell_type": "code",
   "execution_count": null,
   "id": "96338934",
   "metadata": {},
   "outputs": [],
   "source": [
    "df.query('TotalCharges.isna()')"
   ]
  },
  {
   "cell_type": "code",
   "execution_count": 21,
   "id": "51902a9e",
   "metadata": {},
   "outputs": [
    {
     "data": {
      "image/png": "[encoded data removed]",
      "text/plain": [
       "<Figure size 432x288 with 1 Axes>"
      ]
     },
     "metadata": {
      "needs_background": "light"
     },
     "output_type": "display_data"
    }
   ],
   "source": [
    "# quick check on the distribution of total charges\n",
    "plt.hist(df['TotalCharges'], bins=50);"
   ]
  },
  {
   "cell_type": "code",
   "execution_count": 23,
   "id": "6f73f04f",
   "metadata": {},
   "outputs": [],
   "source": [
    "# based on the data overview above - set the nan total charges to 0\n",
    "df.loc[df['TotalCharges'].isna(), 'TotalCharges'] = 0"
   ]
  },
  {
   "cell_type": "markdown",
   "id": "ad6fedb0",
   "metadata": {},
   "source": [
    "Prepare Data for Model"
   ]
  },
  {
   "cell_type": "code",
   "execution_count": 24,
   "id": "a7f2ed7c",
   "metadata": {},
   "outputs": [],
   "source": [
    "X = df.loc[:, ['tenure', 'SeniorCitizen', 'MonthlyCharges', 'TotalCharges']]\n",
    "y = df['Churn']"
   ]
  },
  {
   "cell_type": "code",
   "execution_count": 25,
   "id": "1e6bbaee",
   "metadata": {},
   "outputs": [],
   "source": [
    "# train test split\n",
    "X_train, X_test, y_train, y_test = train_test_split(X, y, test_size=0.3, random_state=42, stratify=y)"
   ]
  },
  {
   "cell_type": "code",
   "execution_count": 26,
   "id": "4a74b924",
   "metadata": {},
   "outputs": [
    {
     "data": {
      "text/plain": [
       "0.0    0.73463\n",
       "1.0    0.26537\n",
       "Name: Churn, dtype: float64"
      ]
     },
     "execution_count": 26,
     "metadata": {},
     "output_type": "execute_result"
    }
   ],
   "source": [
    "# check for class imbalance on TARGET\n",
    "y.value_counts() / y.shape[0]"
   ]
  },
  {
   "cell_type": "markdown",
   "id": "9b8dda9f",
   "metadata": {},
   "source": [
    "observation: Class imbalance on target"
   ]
  },
  {
   "cell_type": "code",
   "execution_count": 27,
   "id": "0d2f7aa3",
   "metadata": {},
   "outputs": [],
   "source": [
    "# fn to create pipelines - note that no encoding for categorials is inclused sicne all features are numericals\n",
    "def custom_pipeline(scaler, model, sampler=None):\n",
    "    if sampler:\n",
    "        return Pipeline([\n",
    "            ('scaler', scaler),\n",
    "            ('sampler', sampler),\n",
    "            ('model', model)\n",
    "        ])\n",
    "    else:\n",
    "        return Pipeline([\n",
    "            ('scaler', scaler),\n",
    "            ('model', model)\n",
    "        ])"
   ]
  },
  {
   "cell_type": "code",
   "execution_count": 28,
   "id": "e4671641",
   "metadata": {},
   "outputs": [],
   "source": [
    "def show_confusion_matrix(y_pred, y_test, classes, title):\n",
    "    cm = confusion_matrix(y_test, y_pred, labels=classes)\n",
    "    disp = ConfusionMatrixDisplay(confusion_matrix=cm, display_labels=classes)\n",
    "    disp.plot(colorbar=False)\n",
    "    disp.ax_.set_title(title)\n",
    "    plt.show()"
   ]
  },
  {
   "cell_type": "markdown",
   "id": "907ed3f2",
   "metadata": {},
   "source": [
    "Model 1: No sampler to address class imbalance on target"
   ]
  },
  {
   "cell_type": "code",
   "execution_count": 29,
   "id": "0d1465ec",
   "metadata": {},
   "outputs": [],
   "source": [
    "clf_base = custom_pipeline(StandardScaler(), LogisticRegression())\n",
    "clf_base.fit(X_train, y_train);"
   ]
  },
  {
   "cell_type": "code",
   "execution_count": 30,
   "id": "f5a2afcf",
   "metadata": {},
   "outputs": [],
   "source": [
    "y_pred_base = clf_base.predict(X_test)"
   ]
  },
  {
   "cell_type": "code",
   "execution_count": 31,
   "id": "ba9749c6",
   "metadata": {},
   "outputs": [
    {
     "name": "stdout",
     "output_type": "stream",
     "text": [
      "LogisticRegression - no sampler\n",
      "              precision    recall  f1-score   support\n",
      "\n",
      "         0.0       0.82      0.91      0.87      1552\n",
      "         1.0       0.66      0.45      0.54       561\n",
      "\n",
      "    accuracy                           0.79      2113\n",
      "   macro avg       0.74      0.68      0.70      2113\n",
      "weighted avg       0.78      0.79      0.78      2113\n",
      "\n"
     ]
    }
   ],
   "source": [
    "print('LogisticRegression - no sampler')\n",
    "print(classification_report(y_test, y_pred_base))"
   ]
  },
  {
   "cell_type": "code",
   "execution_count": 32,
   "id": "0902b267",
   "metadata": {},
   "outputs": [
    {
     "data": {
      "image/png": "[encoded data removed]",
      "text/plain": [
       "<Figure size 432x288 with 1 Axes>"
      ]
     },
     "metadata": {
      "needs_background": "light"
     },
     "output_type": "display_data"
    }
   ],
   "source": [
    "show_confusion_matrix(y_pred_base, y_test, clf_base[1].classes_, 'CM Test Dataset - LogReg no Sampler')"
   ]
  },
  {
   "cell_type": "markdown",
   "id": "942fb8de",
   "metadata": {},
   "source": [
    "Model 2 and 3: Use Upsampler to address class imbalance on target - SMOTE and RandomOverSampler"
   ]
  },
  {
   "cell_type": "code",
   "execution_count": 33,
   "id": "9ae65db3",
   "metadata": {},
   "outputs": [],
   "source": [
    "clf_SMOTE = custom_pipeline(StandardScaler(), LogisticRegression(), SMOTE())\n",
    "clf_SMOTE.fit(X_train, y_train);"
   ]
  },
  {
   "cell_type": "code",
   "execution_count": 34,
   "id": "b879d2f0",
   "metadata": {},
   "outputs": [
    {
     "name": "stdout",
     "output_type": "stream",
     "text": [
      "LogisticRegression - SMOTE\n",
      "              precision    recall  f1-score   support\n",
      "\n",
      "         0.0       0.89      0.72      0.80      1552\n",
      "         1.0       0.49      0.75      0.59       561\n",
      "\n",
      "    accuracy                           0.73      2113\n",
      "   macro avg       0.69      0.73      0.69      2113\n",
      "weighted avg       0.78      0.73      0.74      2113\n",
      "\n"
     ]
    },
    {
     "data": {
      "image/png": "[encoded data removed]",
      "text/plain": [
       "<Figure size 432x288 with 1 Axes>"
      ]
     },
     "metadata": {
      "needs_background": "light"
     },
     "output_type": "display_data"
    }
   ],
   "source": [
    "y_pred_smote = clf_SMOTE.predict(X_test)\n",
    "print('LogisticRegression - SMOTE')\n",
    "print(classification_report(y_test, y_pred_smote))\n",
    "show_confusion_matrix(y_pred_smote, y_test, clf_SMOTE[2].classes_, 'CM Test Dataset - LogReg with SMOTE')"
   ]
  },
  {
   "cell_type": "code",
   "execution_count": 35,
   "id": "48fbc162",
   "metadata": {},
   "outputs": [],
   "source": [
    "clf_ros = custom_pipeline(StandardScaler(), LogisticRegression(), RandomOverSampler())\n",
    "clf_ros.fit(X_train, y_train);"
   ]
  },
  {
   "cell_type": "code",
   "execution_count": 36,
   "id": "d79fc182",
   "metadata": {},
   "outputs": [
    {
     "name": "stdout",
     "output_type": "stream",
     "text": [
      "LogisticRegression - ROS\n",
      "              precision    recall  f1-score   support\n",
      "\n",
      "         0.0       0.89      0.72      0.80      1552\n",
      "         1.0       0.49      0.74      0.59       561\n",
      "\n",
      "    accuracy                           0.73      2113\n",
      "   macro avg       0.69      0.73      0.69      2113\n",
      "weighted avg       0.78      0.73      0.74      2113\n",
      "\n"
     ]
    },
    {
     "data": {
      "image/png": "[encoded data removed]",
      "text/plain": [
       "<Figure size 432x288 with 1 Axes>"
      ]
     },
     "metadata": {
      "needs_background": "light"
     },
     "output_type": "display_data"
    }
   ],
   "source": [
    "y_pred_ros = clf_ros.predict(X_test)\n",
    "print('LogisticRegression - ROS')\n",
    "print(classification_report(y_test, y_pred_ros))\n",
    "show_confusion_matrix(y_pred_ros, y_test, clf_ros[2].classes_, 'CM Test Dataset - LogReg with RandomOverSampler')"
   ]
  },
  {
   "cell_type": "markdown",
   "id": "80f2a6db",
   "metadata": {},
   "source": [
    "Model 4: Use Downsampler to address class imbalance on target"
   ]
  },
  {
   "cell_type": "code",
   "execution_count": 37,
   "id": "94603b51",
   "metadata": {},
   "outputs": [],
   "source": [
    "clf_rus = custom_pipeline(StandardScaler(), LogisticRegression(), RandomUnderSampler())\n",
    "clf_rus.fit(X_train, y_train);"
   ]
  },
  {
   "cell_type": "code",
   "execution_count": 38,
   "id": "dd76e985",
   "metadata": {},
   "outputs": [
    {
     "name": "stdout",
     "output_type": "stream",
     "text": [
      "LogisticRegression - RUS\n",
      "              precision    recall  f1-score   support\n",
      "\n",
      "         0.0       0.89      0.72      0.79      1552\n",
      "         1.0       0.49      0.75      0.59       561\n",
      "\n",
      "    accuracy                           0.73      2113\n",
      "   macro avg       0.69      0.73      0.69      2113\n",
      "weighted avg       0.78      0.73      0.74      2113\n",
      "\n"
     ]
    },
    {
     "data": {
      "image/png": "[encoded data removed]",
      "text/plain": [
       "<Figure size 432x288 with 1 Axes>"
      ]
     },
     "metadata": {
      "needs_background": "light"
     },
     "output_type": "display_data"
    }
   ],
   "source": [
    "y_pred_rus = clf_rus.predict(X_test)\n",
    "print('LogisticRegression - RUS')\n",
    "print(classification_report(y_test, y_pred_rus))\n",
    "show_confusion_matrix(y_pred_rus, y_test, clf_rus[2].classes_, 'CM Test Dataset - LogReg with RandomUnderSampler')"
   ]
  },
  {
   "cell_type": "markdown",
   "id": "4b11a1bc",
   "metadata": {},
   "source": [
    "Compare outcomes"
   ]
  },
  {
   "cell_type": "code",
   "execution_count": 39,
   "id": "290acbb9",
   "metadata": {},
   "outputs": [],
   "source": [
    "def add_scores_to_overall_results(df_results, scores_test, sampler, estimator):\n",
    "    df_results.loc[df_results.shape[0]] = [get_class_name(estimator), get_class_name(sampler) if sampler else None,\n",
    "                                          scores_test.at[\"accuracy\",\"f1-score\"], scores_test.at[\"1.0\",\"f1-score\"],\n",
    "                                          scores_test.at[\"1.0\",\"precision\"], scores_test.at[\"1.0\",\"recall\"],\n",
    "                                          scores_test.at[\"0.0\",\"f1-score\"], scores_test.at[\"0.0\",\"precision\"],\n",
    "                                          scores_test.at[\"0.0\",\"recall\"]]\n",
    "    \n",
    "def get_class_name(cl):\n",
    "    return cl.__class__.__name__"
   ]
  },
  {
   "cell_type": "code",
   "execution_count": 40,
   "id": "74a6fb29",
   "metadata": {},
   "outputs": [],
   "source": [
    "model_comparisson = pd.DataFrame([], columns=['model', 'sampler', 'f1_score', 'yes_f1', \\\n",
    "                                          'yes_precision', 'yes_recall', 'no_f1', 'no_precision', 'no_recall'])"
   ]
  },
  {
   "cell_type": "code",
   "execution_count": 41,
   "id": "baed77c1",
   "metadata": {},
   "outputs": [],
   "source": [
    "# Add the outcomes from all models to an overview table\n",
    "add_scores_to_overall_results(model_comparisson, \n",
    "                              pd.DataFrame(classification_report(y_test, y_pred_base, output_dict=True)).T, \n",
    "                              None, \n",
    "                              clf_base[1])\n",
    "\n",
    "add_scores_to_overall_results(model_comparisson, \n",
    "                              pd.DataFrame(classification_report(y_test, y_pred_smote, output_dict=True)).T, \n",
    "                              clf_SMOTE[1], \n",
    "                              clf_SMOTE[2])\n",
    "\n",
    "add_scores_to_overall_results(model_comparisson, \n",
    "                              pd.DataFrame(classification_report(y_test, y_pred_ros, output_dict=True)).T, \n",
    "                              clf_ros[1], \n",
    "                              clf_ros[2])\n",
    "\n",
    "add_scores_to_overall_results(model_comparisson, \n",
    "                              pd.DataFrame(classification_report(y_test, y_pred_rus, output_dict=True)).T, \n",
    "                              clf_rus[1], \n",
    "                              clf_rus[2])"
   ]
  },
  {
   "cell_type": "code",
   "execution_count": 42,
   "id": "7ab3ef32",
   "metadata": {},
   "outputs": [
    {
     "data": {
      "text/html": [
       "<div>\n",
       "<style scoped>\n",
       "    .dataframe tbody tr th:only-of-type {\n",
       "        vertical-align: middle;\n",
       "    }\n",
       "\n",
       "    .dataframe tbody tr th {\n",
       "        vertical-align: top;\n",
       "    }\n",
       "\n",
       "    .dataframe thead th {\n",
       "        text-align: right;\n",
       "    }\n",
       "</style>\n",
       "<table border=\"1\" class=\"dataframe\">\n",
       "  <thead>\n",
       "    <tr style=\"text-align: right;\">\n",
       "      <th></th>\n",
       "      <th>model</th>\n",
       "      <th>sampler</th>\n",
       "      <th>f1_score</th>\n",
       "      <th>yes_f1</th>\n",
       "      <th>yes_precision</th>\n",
       "      <th>yes_recall</th>\n",
       "      <th>no_f1</th>\n",
       "      <th>no_precision</th>\n",
       "      <th>no_recall</th>\n",
       "    </tr>\n",
       "  </thead>\n",
       "  <tbody>\n",
       "    <tr>\n",
       "      <th>0</th>\n",
       "      <td>LogisticRegression</td>\n",
       "      <td>None</td>\n",
       "      <td>0.792239</td>\n",
       "      <td>0.537408</td>\n",
       "      <td>0.657216</td>\n",
       "      <td>0.454545</td>\n",
       "      <td>0.866036</td>\n",
       "      <td>0.822609</td>\n",
       "      <td>0.914304</td>\n",
       "    </tr>\n",
       "    <tr>\n",
       "      <th>2</th>\n",
       "      <td>LogisticRegression</td>\n",
       "      <td>RandomOverSampler</td>\n",
       "      <td>0.729295</td>\n",
       "      <td>0.592593</td>\n",
       "      <td>0.493476</td>\n",
       "      <td>0.741533</td>\n",
       "      <td>0.797307</td>\n",
       "      <td>0.885827</td>\n",
       "      <td>0.724871</td>\n",
       "    </tr>\n",
       "    <tr>\n",
       "      <th>1</th>\n",
       "      <td>LogisticRegression</td>\n",
       "      <td>SMOTE</td>\n",
       "      <td>0.727402</td>\n",
       "      <td>0.592645</td>\n",
       "      <td>0.491208</td>\n",
       "      <td>0.746881</td>\n",
       "      <td>0.795164</td>\n",
       "      <td>0.887302</td>\n",
       "      <td>0.720361</td>\n",
       "    </tr>\n",
       "    <tr>\n",
       "      <th>3</th>\n",
       "      <td>LogisticRegression</td>\n",
       "      <td>RandomUnderSampler</td>\n",
       "      <td>0.725035</td>\n",
       "      <td>0.592281</td>\n",
       "      <td>0.488426</td>\n",
       "      <td>0.752228</td>\n",
       "      <td>0.792574</td>\n",
       "      <td>0.888711</td>\n",
       "      <td>0.715206</td>\n",
       "    </tr>\n",
       "  </tbody>\n",
       "</table>\n",
       "</div>"
      ],
      "text/plain": [
       "                model             sampler  f1_score    yes_f1  yes_precision  \\\n",
       "0  LogisticRegression                None  0.792239  0.537408       0.657216   \n",
       "2  LogisticRegression   RandomOverSampler  0.729295  0.592593       0.493476   \n",
       "1  LogisticRegression               SMOTE  0.727402  0.592645       0.491208   \n",
       "3  LogisticRegression  RandomUnderSampler  0.725035  0.592281       0.488426   \n",
       "\n",
       "   yes_recall     no_f1  no_precision  no_recall  \n",
       "0    0.454545  0.866036      0.822609   0.914304  \n",
       "2    0.741533  0.797307      0.885827   0.724871  \n",
       "1    0.746881  0.795164      0.887302   0.720361  \n",
       "3    0.752228  0.792574      0.888711   0.715206  "
      ]
     },
     "execution_count": 42,
     "metadata": {},
     "output_type": "execute_result"
    }
   ],
   "source": [
    "# sort by f1 score\n",
    "model_comparisson.sort_values(by='f1_score', ascending=False)"
   ]
  },
  {
   "cell_type": "markdown",
   "id": "0670311a",
   "metadata": {},
   "source": [
    "the f1 score is the highest for the Logistic Regression without any measures against class imbalance; however here we also see the lowest recall for the postive class (which was under represented in the target)"
   ]
  }
 ],
 "metadata": {
  "kernelspec": {
   "display_name": "Python 3 (ipykernel)",
   "language": "python",
   "name": "python3"
  },
  "language_info": {
   "codemirror_mode": {
    "name": "ipython",
    "version": 3
   },
   "file_extension": ".py",
   "mimetype": "text/x-python",
   "name": "python",
   "nbconvert_exporter": "python",
   "pygments_lexer": "ipython3",
   "version": "3.9.7"
  }
 },
 "nbformat": 4,
 "nbformat_minor": 5
}
